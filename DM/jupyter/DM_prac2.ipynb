{
 "cells": [
  {
   "cell_type": "code",
   "execution_count": 1,
   "id": "d2504c45",
   "metadata": {},
   "outputs": [
    {
     "name": "stdout",
     "output_type": "stream",
     "text": [
      "     Unnamed: 0  Sepal.Length  Sepal.Width  Petal.Length  Petal.Width  \\\n",
      "0             1           5.1          3.5           1.4          0.2   \n",
      "1             2           4.9          3.0           1.4          0.2   \n",
      "2             3           4.7          3.2           1.3          0.2   \n",
      "3             4           4.6          3.1           1.5          0.2   \n",
      "4             5           NaN          3.6           1.4          0.2   \n",
      "..          ...           ...          ...           ...          ...   \n",
      "145         146           6.7          3.0           5.2          2.3   \n",
      "146         147           6.3          2.5           5.0          1.9   \n",
      "147         148           6.5          3.0           5.2          2.0   \n",
      "148         149           6.2          3.4           5.4          2.3   \n",
      "149         150           NaN          3.0           5.1          1.8   \n",
      "\n",
      "       Species  \n",
      "0       Setosa  \n",
      "1       setosa  \n",
      "2       setosa  \n",
      "3       setosa  \n",
      "4       setosa  \n",
      "..         ...  \n",
      "145  virginica  \n",
      "146  virginica  \n",
      "147  virginica  \n",
      "148  virginica  \n",
      "149  virginica  \n",
      "\n",
      "[150 rows x 6 columns]\n"
     ]
    }
   ],
   "source": [
    "import pandas as pd\n",
    "import numpy as np\n",
    "import matplotlib.pyplot as plt\n",
    "\n",
    "dirty_iris = pd.read_csv('iris_dirty.csv')\n",
    "print(dirty_iris)"
   ]
  },
  {
   "cell_type": "code",
   "execution_count": 2,
   "id": "38428711",
   "metadata": {},
   "outputs": [
    {
     "name": "stdout",
     "output_type": "stream",
     "text": [
      "Number of complete observations: 131\n",
      "Percentage of complete observations: 87.33%\n"
     ]
    }
   ],
   "source": [
    "# i) Calculate the number and percentage of complete observations\n",
    "complete_obs = dirty_iris.dropna()\n",
    "num_complete_obs = len(complete_obs)\n",
    "total_obs = len(dirty_iris)\n",
    "percentage_complete = (num_complete_obs / total_obs) * 100\n",
    "\n",
    "print(f\"Number of complete observations: {num_complete_obs}\")\n",
    "print(f\"Percentage of complete observations: {percentage_complete:.2f}%\")\n",
    "\n"
   ]
  },
  {
   "cell_type": "code",
   "execution_count": 3,
   "id": "ca4eec9f",
   "metadata": {},
   "outputs": [
    {
     "name": "stdout",
     "output_type": "stream",
     "text": [
      "[5.1 4.9 4.7 4.6 nan 5.4 5.  4.4 4.8 4.3 5.8 5.7 5.2 5.5 4.5 5.3 7.  6.4\n",
      " 6.9 6.5 6.3 6.6 5.9 6.  6.1 5.6 6.7 6.2 6.8 7.1 7.6 7.3 7.2 7.7 7.4 7.9]\n"
     ]
    }
   ],
   "source": [
    "# ii) Replace all special values in the data with NA\n",
    "print(dirty_iris['Sepal.Length'].unique())"
   ]
  },
  {
   "cell_type": "code",
   "execution_count": 4,
   "id": "0149520b",
   "metadata": {},
   "outputs": [
    {
     "name": "stdout",
     "output_type": "stream",
     "text": [
      "[3.5 3.  3.2 3.1 3.6 nan 3.4 2.9 3.7 4.  4.4 3.9 3.8 3.3 4.1 4.2 2.3 2.8\n",
      " 2.4 2.7 2.  2.2 2.5 2.6]\n"
     ]
    }
   ],
   "source": [
    "print(dirty_iris['Sepal.Width'].unique())"
   ]
  },
  {
   "cell_type": "code",
   "execution_count": 5,
   "id": "ba040687",
   "metadata": {},
   "outputs": [
    {
     "name": "stdout",
     "output_type": "stream",
     "text": [
      "[0.2 0.4 0.3 0.1 0.5 0.6 1.4 1.5 1.3 1.6 1.  1.1 1.8 1.2 1.7 2.5 1.9 2.1\n",
      " 2.2 2.  2.4 2.3]\n"
     ]
    }
   ],
   "source": [
    "print(dirty_iris['Petal.Width'].unique())"
   ]
  },
  {
   "cell_type": "code",
   "execution_count": 6,
   "id": "bfcbd0d5",
   "metadata": {},
   "outputs": [
    {
     "name": "stdout",
     "output_type": "stream",
     "text": [
      "[1.4 1.3 1.5 1.7 1.6 1.1 1.2 1.  1.9 4.7 4.5 4.9 4.  4.6 3.3 3.9 3.5 4.2\n",
      " 3.6 4.4 4.1 4.8 4.3 5.  3.8 3.7 5.1 3.  6.  5.9 5.6 5.8 6.6 6.3 6.1 5.3\n",
      " 5.5 6.7 6.9 5.7 6.4 5.4 5.2]\n"
     ]
    }
   ],
   "source": [
    "print(dirty_iris['Petal.Length'].unique())\n"
   ]
  },
  {
   "cell_type": "code",
   "execution_count": 7,
   "id": "11001feb",
   "metadata": {},
   "outputs": [
    {
     "name": "stdout",
     "output_type": "stream",
     "text": [
      "['Setosa' 'setosa' 'SETOSA' 'versicolor' 'Versicolor' 'VERSICOLOR'\n",
      " 'virginica' 'VIRGINICA']\n"
     ]
    }
   ],
   "source": [
    "print(dirty_iris['Species'].unique())"
   ]
  },
  {
   "cell_type": "code",
   "execution_count": 8,
   "id": "31a33454",
   "metadata": {},
   "outputs": [
    {
     "name": "stdout",
     "output_type": "stream",
     "text": [
      "     Unnamed: 0  Sepal.Length  Sepal.Width  Petal.Length  Petal.Width  \\\n",
      "0             1           5.1          3.5           1.4          0.2   \n",
      "1             2           4.9          3.0           1.4          0.2   \n",
      "2             3           4.7          3.2           1.3          0.2   \n",
      "3             4           4.6          3.1           1.5          0.2   \n",
      "4             5           NaN          3.6           1.4          0.2   \n",
      "..          ...           ...          ...           ...          ...   \n",
      "145         146           6.7          3.0           5.2          2.3   \n",
      "146         147           6.3          2.5           5.0          1.9   \n",
      "147         148           6.5          3.0           5.2          2.0   \n",
      "148         149           6.2          3.4           5.4          2.3   \n",
      "149         150           NaN          3.0           5.1          1.8   \n",
      "\n",
      "       Species  \n",
      "0       Setosa  \n",
      "1       setosa  \n",
      "2       setosa  \n",
      "3       setosa  \n",
      "4       setosa  \n",
      "..         ...  \n",
      "145  virginica  \n",
      "146  virginica  \n",
      "147  virginica  \n",
      "148  virginica  \n",
      "149  virginica  \n",
      "\n",
      "[150 rows x 6 columns]\n"
     ]
    }
   ],
   "source": [
    "special_values = ['nan','inf']\n",
    "dirty_iris.replace(special_values, np.nan, inplace=True)\n",
    "print(dirty_iris)\n"
   ]
  },
  {
   "cell_type": "code",
   "execution_count": 9,
   "id": "8b8dd8d7",
   "metadata": {},
   "outputs": [
    {
     "name": "stdout",
     "output_type": "stream",
     "text": [
      "Number of violations for each rule:\n",
      "Species: 5\n",
      "Numerical Properties: 0\n",
      "Petal Length: 0\n",
      "Sepal Length: 0\n",
      "Sepal-Petal Relationship: 0\n"
     ]
    }
   ],
   "source": [
    "# iii) Define rules\n",
    "def check_rules(df):\n",
    "    species_violations = (~df['Species'].isin(['setosa', 'versicolor', 'virginica'])).sum()\n",
    "    \n",
    "    numerical_properties_violations = (df.select_dtypes(include=[np.number]) < 0).sum().sum()\n",
    "\n",
    "    petal_length_violations = (df['Petal.Length'] < 2 * df['Petal.Width']).sum()\n",
    "\n",
    "    sepal_length_violations = (df['Sepal.Length'] > 30).sum()\n",
    "\n",
    "    sepal_petal_relationship_violations = (df['Sepal.Length'] <= df['Petal.Length']).sum()\n",
    "\n",
    "    violations = {\n",
    "        \"Species\": species_violations,\n",
    "        \"Numerical Properties\": numerical_properties_violations,\n",
    "        \"Petal Length\": petal_length_violations,\n",
    "        \"Sepal Length\": sepal_length_violations,\n",
    "        \"Sepal-Petal Relationship\": sepal_petal_relationship_violations\n",
    "    }\n",
    "\n",
    "    return violations\n",
    "\n",
    "\n",
    "# iv) Determine how often each rule is broken\n",
    "violations = check_rules(dirty_iris)\n",
    "print(\"Number of violations for each rule:\")\n",
    "for rule, count in violations.items():\n",
    "    print(f\"{rule}: {count}\")\n",
    "\n",
    "    "
   ]
  },
  {
   "cell_type": "code",
   "execution_count": 10,
   "id": "686c4dfb",
   "metadata": {},
   "outputs": [
    {
     "data": {
      "image/png": "[encoded data removed]",
      "text/plain": [
       "<Figure size 640x480 with 1 Axes>"
      ]
     },
     "metadata": {},
     "output_type": "display_data"
    }
   ],
   "source": [
    "# Summarize and plot the results of applying the ruleset\n",
    "plt.bar(violations.keys(), violations.values(), color='skyblue')\n",
    "plt.title('Number of Violations for Each Rule')\n",
    "plt.xlabel('Rule')\n",
    "plt.ylabel('Number of Violations')\n",
    "plt.xticks(rotation=45)\n",
    "plt.show()\n",
    "\n"
   ]
  },
  {
   "cell_type": "code",
   "execution_count": 11,
   "id": "c9141ecb",
   "metadata": {},
   "outputs": [
    {
     "data": {
      "image/png": "[encoded data removed]",
      "text/plain": [
       "<Figure size 640x480 with 1 Axes>"
      ]
     },
     "metadata": {},
     "output_type": "display_data"
    }
   ],
   "source": [
    "# v) Find outliers in sepal length using boxplot\n",
    "plt.boxplot(dirty_iris['Sepal.Length'].dropna())\n",
    "plt.title('Boxplot of Sepal Length')\n",
    "plt.ylabel('Sepal Length (cm)')\n",
    "plt.show()"
   ]
  }
 ],
 "metadata": {
  "kernelspec": {
   "display_name": "Python 3 (ipykernel)",
   "language": "python",
   "name": "python3"
  },
  "language_info": {
   "codemirror_mode": {
    "name": "ipython",
    "version": 3
   },
   "file_extension": ".py",
   "mimetype": "text/x-python",
   "name": "python",
   "nbconvert_exporter": "python",
   "pygments_lexer": "ipython3",
   "version": "3.11.4"
  }
 },
 "nbformat": 4,
 "nbformat_minor": 5
}
