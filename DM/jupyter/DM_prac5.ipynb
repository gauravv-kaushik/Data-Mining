{
 "cells": [
  {
   "cell_type": "markdown",
   "metadata": {
    "colab": {
     "base_uri": "https://localhost:8080/"
    },
    "id": "RLMBj2J9V4wz",
    "outputId": "b7773c0d-5e42-4d77-d003-29cc898bc13d"
   },
   "source": [
    "# Datasets Used :\n",
    "# 1. Breast Cancer\n",
    "# 2. Iris Dataset"
   ]
  },
  {
   "cell_type": "code",
   "execution_count": 1,
   "metadata": {},
   "outputs": [
    {
     "name": "stdout",
     "output_type": "stream",
     "text": [
      "Collecting sklearn\n",
      "  Using cached sklearn-0.0.post12.tar.gz (2.6 kB)\n",
      "  Preparing metadata (setup.py): started\n",
      "  Preparing metadata (setup.py): finished with status 'error'\n"
     ]
    },
    {
     "name": "stderr",
     "output_type": "stream",
     "text": [
      "  error: subprocess-exited-with-error\n",
      "  \n",
      "  python setup.py egg_info did not run successfully.\n",
      "  exit code: 1\n",
      "  \n",
      "  [15 lines of output]\n",
      "  The 'sklearn' PyPI package is deprecated, use 'scikit-learn'\n",
      "  rather than 'sklearn' for pip commands.\n",
      "  \n",
      "  Here is how to fix this error in the main use cases:\n",
      "  - use 'pip install scikit-learn' rather than 'pip install sklearn'\n",
      "  - replace 'sklearn' by 'scikit-learn' in your pip requirements files\n",
      "    (requirements.txt, setup.py, setup.cfg, Pipfile, etc ...)\n",
      "  - if the 'sklearn' package is used by one of your dependencies,\n",
      "    it would be great if you take some time to track which package uses\n",
      "    'sklearn' instead of 'scikit-learn' and report it to their issue tracker\n",
      "  - as a last resort, set the environment variable\n",
      "    SKLEARN_ALLOW_DEPRECATED_SKLEARN_PACKAGE_INSTALL=True to avoid this error\n",
      "  \n",
      "  More information is available at\n",
      "  https://github.com/scikit-learn/sklearn-pypi-package\n",
      "  [end of output]\n",
      "  \n",
      "  note: This error originates from a subprocess, and is likely not a problem with pip.\n",
      "error: metadata-generation-failed\n",
      "\n",
      "Encountered error while generating package metadata.\n",
      "\n",
      "See above for output.\n",
      "\n",
      "note: This is an issue with the package mentioned above, not pip.\n",
      "hint: See above for details.\n"
     ]
    }
   ],
   "source": [
    "!pip install sklearn"
   ]
  },
  {
   "cell_type": "code",
   "execution_count": 2,
   "metadata": {
    "id": "bzyoo7xDGSK1"
   },
   "outputs": [],
   "source": [
    "from matplotlib import pyplot as plt\n",
    "from sklearn.datasets import load_iris\n",
    "from sklearn.datasets import load_breast_cancer\n",
    "from sklearn.neighbors import KNeighborsClassifier\n",
    "from sklearn.tree import DecisionTreeClassifier\n",
    "from sklearn.metrics import classification_report\n",
    "from sklearn.metrics import accuracy_score\n",
    "from sklearn.model_selection import train_test_split\n",
    "from sklearn.metrics import confusion_matrix,precision_score,recall_score,f1_score,ConfusionMatrixDisplay"
   ]
  },
  {
   "cell_type": "code",
   "execution_count": 3,
   "metadata": {
    "id": "cLh3bwKiHhCk"
   },
   "outputs": [],
   "source": [
    "svm = load_breast_cancer()\n",
    "x = svm.data\n",
    "y = svm.target"
   ]
  },
  {
   "cell_type": "code",
   "execution_count": 4,
   "metadata": {
    "colab": {
     "base_uri": "https://localhost:8080/"
    },
    "id": "qVq-FxHbHxQU",
    "outputId": "47428c14-1f13-4354-9139-6891d72dfadd"
   },
   "outputs": [
    {
     "name": "stdout",
     "output_type": "stream",
     "text": [
      "(569, 30)\n"
     ]
    }
   ],
   "source": [
    "print(x.shape)"
   ]
  },
  {
   "cell_type": "code",
   "execution_count": 5,
   "metadata": {
    "colab": {
     "base_uri": "https://localhost:8080/"
    },
    "id": "v-o6AC5fHz_k",
    "outputId": "cfea3bfb-72eb-4917-890a-3fba8f1f8763"
   },
   "outputs": [
    {
     "name": "stdout",
     "output_type": "stream",
     "text": [
      "(569,)\n"
     ]
    }
   ],
   "source": [
    "print(y.shape)"
   ]
  },
  {
   "cell_type": "code",
   "execution_count": 6,
   "metadata": {
    "id": "uOCx9DPjIC7z"
   },
   "outputs": [],
   "source": [
    "k_size = 0.25\n",
    "r_seed = 100\n",
    "X_train,X_test,y_train,y_test=train_test_split(x,y,test_size=k_size,random_state=r_seed)"
   ]
  },
  {
   "cell_type": "code",
   "execution_count": 7,
   "metadata": {
    "colab": {
     "base_uri": "https://localhost:8080/"
    },
    "id": "qfZUyyUNIWi8",
    "outputId": "1c10acdf-4af8-4b29-af0b-634dcbba8945"
   },
   "outputs": [
    {
     "name": "stdout",
     "output_type": "stream",
     "text": [
      "Shape of X_train (426, 30)\n",
      "Shape of y_train (426,)\n",
      "Shape of X_train (143, 30)\n",
      "Shape of y_train (143,)\n"
     ]
    }
   ],
   "source": [
    "print(\"Shape of X_train\" ,X_train.shape)\n",
    "print(\"Shape of y_train\" ,y_train.shape)\n",
    "print(\"Shape of X_train\" ,X_test.shape)\n",
    "print(\"Shape of y_train\" ,y_test.shape)"
   ]
  },
  {
   "cell_type": "markdown",
   "metadata": {
    "id": "iqHQsTTghFwM"
   },
   "source": [
    "# Decision Tree of Hold Out "
   ]
  },
  {
   "cell_type": "code",
   "execution_count": 8,
   "metadata": {
    "colab": {
     "base_uri": "https://localhost:8080/"
    },
    "id": "PK-7_snEI-tE",
    "outputId": "c187405c-471e-48b2-b658-a1617fbfc9b3"
   },
   "outputs": [
    {
     "name": "stdout",
     "output_type": "stream",
     "text": [
      "Hold out  91.6083916083916\n"
     ]
    }
   ],
   "source": [
    "deci_tree =DecisionTreeClassifier(criterion =\"entropy\") # By default gini\n",
    "deci_tree.fit(X_train,y_train)\n",
    "prediction=deci_tree.predict(X_test)\n",
    "accuracy_hold=accuracy_score(y_test,prediction)\n",
    "a1= accuracy_hold*100\n",
    "print( \"Hold out \",a1)"
   ]
  },
  {
   "cell_type": "code",
   "execution_count": 9,
   "metadata": {
    "colab": {
     "base_uri": "https://localhost:8080/",
     "height": 504
    },
    "id": "af2DLIXbJhGk",
    "outputId": "215af644-5c74-4469-a559-f8d473e55c8d"
   },
   "outputs": [
    {
     "data": {
      "text/plain": [
       "<sklearn.metrics._plot.confusion_matrix.ConfusionMatrixDisplay at 0x16da6a8e850>"
      ]
     },
     "execution_count": 9,
     "metadata": {},
     "output_type": "execute_result"
    },
    {
     "data": {
      "image/png": "[encoded data removed]",
      "text/plain": [
       "<Figure size 1500x500 with 2 Axes>"
      ]
     },
     "metadata": {},
     "output_type": "display_data"
    }
   ],
   "source": [
    "fig,(ax1)=plt.subplots()\n",
    "fig.set_size_inches(15,5)\n",
    "ax1.set_title(\"Decisiopn tree\")\n",
    "ConfusionMatrixDisplay.from_estimator(deci_tree,X_test,y_test,ax=ax1)"
   ]
  },
  {
   "cell_type": "markdown",
   "metadata": {
    "id": "qAB-rU8BhSKF"
   },
   "source": [
    "# KNN"
   ]
  },
  {
   "cell_type": "code",
   "execution_count": 10,
   "metadata": {
    "colab": {
     "base_uri": "https://localhost:8080/"
    },
    "id": "hXmCIsYcnhii",
    "outputId": "b5f9ee34-cf93-4d17-ad71-ab9a3515470a"
   },
   "outputs": [
    {
     "name": "stdout",
     "output_type": "stream",
     "text": [
      "Accuracy \n",
      "95.8041958041958\n"
     ]
    }
   ],
   "source": [
    "#KNN (Nearst Neighbour)\n",
    "knn = KNeighborsClassifier()\n",
    "knn.fit(X_train,y_train)\n",
    "print(\"Accuracy \")\n",
    "a2 = knn.score(X_test,y_test)*100\n",
    "print(a2)"
   ]
  },
  {
   "cell_type": "markdown",
   "metadata": {
    "id": "iTTZKqiJhfBm"
   },
   "source": [
    "# Naive bayes"
   ]
  },
  {
   "cell_type": "code",
   "execution_count": 11,
   "metadata": {
    "colab": {
     "base_uri": "https://localhost:8080/"
    },
    "id": "85or04-kL8hk",
    "outputId": "34443b9b-d798-4a9c-b9b8-bbe3fb2ab5bd"
   },
   "outputs": [
    {
     "name": "stdout",
     "output_type": "stream",
     "text": [
      "Accuracy of Test Data\n",
      "Naive Bayes Accuracy : 94.4055944055944 %\n",
      "Classification report on test data\n",
      "              precision    recall  f1-score   support\n",
      "\n",
      "           0       0.94      0.91      0.93        56\n",
      "           1       0.94      0.97      0.95        87\n",
      "\n",
      "    accuracy                           0.94       143\n",
      "   macro avg       0.94      0.94      0.94       143\n",
      "weighted avg       0.94      0.94      0.94       143\n",
      "\n"
     ]
    }
   ],
   "source": [
    "from sklearn.naive_bayes import GaussianNB\n",
    "#fitting the model\n",
    "nb=GaussianNB()\n",
    "nb.fit(X_train,y_train)\n",
    "prediction_nb =nb.predict(X_test)\n",
    "\n",
    "print(\"Accuracy of Test Data\")\n",
    "nb_score=accuracy_score(y_test,prediction_nb)\n",
    "\n",
    "a3 = nb_score*100\n",
    "print(\"Naive Bayes Accuracy :\",a3,\"%\")\n",
    "print(\"Classification report on test data\")\n",
    "print(classification_report(y_test,prediction_nb))"
   ]
  },
  {
   "cell_type": "code",
   "execution_count": 12,
   "metadata": {
    "colab": {
     "base_uri": "https://localhost:8080/"
    },
    "id": "U7-HcweKgzoV",
    "outputId": "5d22f646-ede8-4a06-8e0d-47db57bb9b7d"
   },
   "outputs": [
    {
     "name": "stdout",
     "output_type": "stream",
     "text": [
      "Decision tree accuracy:  92.0760233918129 %\n"
     ]
    }
   ],
   "source": [
    "import numpy as np\n",
    "k=20\n",
    "dta = []\n",
    "for i in range(k):\n",
    "    x_train, x_test, y_train, y_test = train_test_split(x, y, test_size=.3)\n",
    "    deci_tree.fit(x_train, y_train)\n",
    "    dta.append(deci_tree.score(x_test, y_test))\n",
    "a4 = np.mean(dta)*100\n",
    "print(\"Decision tree accuracy: \" ,a4,\"%\")"
   ]
  },
  {
   "cell_type": "markdown",
   "metadata": {
    "id": "MxBgnwtjhPdt"
   },
   "source": [
    "# Cross validation"
   ]
  },
  {
   "cell_type": "code",
   "execution_count": 13,
   "metadata": {
    "id": "ZIyrAnYWqx6Q"
   },
   "outputs": [],
   "source": [
    "from sklearn.model_selection import cross_val_score\n",
    "scores = cross_val_score(deci_tree,svm.data,svm.target,cv=5)"
   ]
  },
  {
   "cell_type": "code",
   "execution_count": 14,
   "metadata": {
    "id": "dNXvUjsqqx_t"
   },
   "outputs": [],
   "source": [
    "mean_accuracy =scores.mean()\n",
    "std_accuracy=scores.std()"
   ]
  },
  {
   "cell_type": "code",
   "execution_count": 15,
   "metadata": {
    "colab": {
     "base_uri": "https://localhost:8080/"
    },
    "id": "tl4aCJGMrgrw",
    "outputId": "29bc4070-9c3b-4bf0-8181-70fa00b76e2b"
   },
   "outputs": [
    {
     "name": "stdout",
     "output_type": "stream",
     "text": [
      "93.67489520260828\n"
     ]
    }
   ],
   "source": [
    "a5 = mean_accuracy*100\n",
    "print(a5)"
   ]
  },
  {
   "cell_type": "code",
   "execution_count": 16,
   "metadata": {
    "colab": {
     "base_uri": "https://localhost:8080/"
    },
    "id": "nNKbkzEgbHIk",
    "outputId": "d9f9b374-545c-4754-e3c3-c62916636fb8"
   },
   "outputs": [
    {
     "name": "stdout",
     "output_type": "stream",
     "text": [
      "Accurcay of Hold Out  91.6083916083916\n",
      "Accurcay of KNN  95.8041958041958\n",
      "Accurcay of Naive Bayes  94.4055944055944\n",
      "Accurcay of Cross Validation  92.0760233918129\n"
     ]
    }
   ],
   "source": [
    "print(\"Accurcay of Hold Out \",a1)\n",
    "print(\"Accurcay of KNN \",a2)\n",
    "print(\"Accurcay of Naive Bayes \",a3)\n",
    "print(\"Accurcay of Cross Validation \",a4)"
   ]
  },
  {
   "cell_type": "markdown",
   "metadata": {
    "id": "anRjEJ8YbZIe"
   },
   "source": [
    "### iris"
   ]
  },
  {
   "cell_type": "code",
   "execution_count": 17,
   "metadata": {},
   "outputs": [],
   "source": [
    "iris = load_iris()\n",
    "x=iris.data\n",
    "y=iris.target"
   ]
  },
  {
   "cell_type": "code",
   "execution_count": 18,
   "metadata": {},
   "outputs": [
    {
     "name": "stdout",
     "output_type": "stream",
     "text": [
      "(150, 4)\n"
     ]
    }
   ],
   "source": [
    "print(x.shape)"
   ]
  },
  {
   "cell_type": "code",
   "execution_count": 19,
   "metadata": {},
   "outputs": [
    {
     "name": "stdout",
     "output_type": "stream",
     "text": [
      "(150,)\n"
     ]
    }
   ],
   "source": [
    "print(y.shape)"
   ]
  },
  {
   "cell_type": "code",
   "execution_count": 20,
   "metadata": {},
   "outputs": [],
   "source": [
    "k_size=0.25\n",
    "r_seed=100\n",
    "X_train,X_test,y_train,y_test=train_test_split(x,y,test_size=k_size,random_state=r_seed)"
   ]
  },
  {
   "cell_type": "code",
   "execution_count": 21,
   "metadata": {},
   "outputs": [
    {
     "name": "stdout",
     "output_type": "stream",
     "text": [
      "Shape of X_train (112, 4)\n",
      "Shape of y_train (112,)\n",
      "Shape of X_train (38, 4)\n",
      "Shape of y_train (38,)\n"
     ]
    }
   ],
   "source": [
    "print(\"Shape of X_train\" ,X_train.shape)\n",
    "print(\"Shape of y_train\" ,y_train.shape)\n",
    "print(\"Shape of X_train\" ,X_test.shape)\n",
    "print(\"Shape of y_train\" ,y_test.shape)"
   ]
  },
  {
   "cell_type": "markdown",
   "metadata": {},
   "source": [
    "## Decision Tree of Hold Out "
   ]
  },
  {
   "cell_type": "code",
   "execution_count": 22,
   "metadata": {},
   "outputs": [
    {
     "name": "stdout",
     "output_type": "stream",
     "text": [
      "Hold out  94.73684210526315\n"
     ]
    }
   ],
   "source": [
    "deci_tree =DecisionTreeClassifier(criterion =\"entropy\") # By default gini\n",
    "deci_tree.fit(X_train,y_train)\n",
    "prediction=deci_tree.predict(X_test)\n",
    "accuracy_hold=accuracy_score(y_test,prediction)\n",
    "a1= accuracy_hold*100\n",
    "print( \"Hold out \",a1)"
   ]
  },
  {
   "cell_type": "code",
   "execution_count": 23,
   "metadata": {},
   "outputs": [
    {
     "data": {
      "text/plain": [
       "<sklearn.metrics._plot.confusion_matrix.ConfusionMatrixDisplay at 0x16da6c4c990>"
      ]
     },
     "execution_count": 23,
     "metadata": {},
     "output_type": "execute_result"
    },
    {
     "data": {
      "image/png": "[encoded data removed]",
      "text/plain": [
       "<Figure size 1500x500 with 2 Axes>"
      ]
     },
     "metadata": {},
     "output_type": "display_data"
    }
   ],
   "source": [
    "fig,(ax1)=plt.subplots()\n",
    "fig.set_size_inches(15,5)\n",
    "ax1.set_title(\"Decision tree\")\n",
    "ConfusionMatrixDisplay.from_estimator(deci_tree,X_test,y_test,ax=ax1)"
   ]
  },
  {
   "cell_type": "markdown",
   "metadata": {},
   "source": [
    "## KNN"
   ]
  },
  {
   "cell_type": "code",
   "execution_count": 24,
   "metadata": {},
   "outputs": [
    {
     "name": "stdout",
     "output_type": "stream",
     "text": [
      "Accuracy \n",
      "97.36842105263158\n"
     ]
    }
   ],
   "source": [
    "#KNN (Nearst Neighbour)\n",
    "knn = KNeighborsClassifier()\n",
    "knn.fit(X_train,y_train)\n",
    "print(\"Accuracy \")\n",
    "a2 = knn.score(X_test,y_test)*100\n",
    "print(a2)"
   ]
  },
  {
   "cell_type": "code",
   "execution_count": 25,
   "metadata": {},
   "outputs": [
    {
     "name": "stdout",
     "output_type": "stream",
     "text": [
      "Accuracy of Test Data\n",
      "Naive Bayes Accuracy : 94.73684210526315 %\n",
      "Classification report on test data\n",
      "              precision    recall  f1-score   support\n",
      "\n",
      "           0       1.00      1.00      1.00        14\n",
      "           1       0.90      0.90      0.90        10\n",
      "           2       0.93      0.93      0.93        14\n",
      "\n",
      "    accuracy                           0.95        38\n",
      "   macro avg       0.94      0.94      0.94        38\n",
      "weighted avg       0.95      0.95      0.95        38\n",
      "\n"
     ]
    }
   ],
   "source": [
    "from sklearn.naive_bayes import GaussianNB\n",
    "#fitting the model\n",
    "nb=GaussianNB()\n",
    "nb.fit(X_train,y_train)\n",
    "prediction_nb =nb.predict(X_test)\n",
    "\n",
    "print(\"Accuracy of Test Data\")\n",
    "nb_score=accuracy_score(y_test,prediction_nb)\n",
    "\n",
    "a3 = nb_score*100\n",
    "print(\"Naive Bayes Accuracy :\",a3,\"%\")\n",
    "print(\"Classification report on test data\")\n",
    "print(classification_report(y_test,prediction_nb))"
   ]
  },
  {
   "cell_type": "code",
   "execution_count": 26,
   "metadata": {},
   "outputs": [
    {
     "name": "stdout",
     "output_type": "stream",
     "text": [
      "Decision tree accuracy:  94.88888888888889 %\n"
     ]
    }
   ],
   "source": [
    "import numpy as np\n",
    "k=20\n",
    "dta = []\n",
    "for i in range(k):\n",
    "    x_train, x_test, y_train, y_test = train_test_split(x, y, test_size=.3)\n",
    "    deci_tree.fit(x_train, y_train)\n",
    "    dta.append(deci_tree.score(x_test, y_test))\n",
    "a4 = np.mean(dta)*100\n",
    "print(\"Decision tree accuracy: \" ,a4,\"%\")"
   ]
  },
  {
   "cell_type": "code",
   "execution_count": 27,
   "metadata": {},
   "outputs": [],
   "source": [
    "from sklearn.model_selection import cross_val_score\n",
    "scores = cross_val_score(deci_tree,iris.data,iris.target,cv=5)"
   ]
  },
  {
   "cell_type": "code",
   "execution_count": 28,
   "metadata": {},
   "outputs": [],
   "source": [
    "mean_accuracy =scores.mean()\n",
    "std_accuracy=scores.std()"
   ]
  },
  {
   "cell_type": "code",
   "execution_count": 29,
   "metadata": {},
   "outputs": [
    {
     "name": "stdout",
     "output_type": "stream",
     "text": [
      "96.00000000000001\n"
     ]
    }
   ],
   "source": [
    "a5 = mean_accuracy*100\n",
    "print(a5)"
   ]
  },
  {
   "cell_type": "code",
   "execution_count": 30,
   "metadata": {},
   "outputs": [
    {
     "name": "stdout",
     "output_type": "stream",
     "text": [
      "Accurcay of Hold Out  94.73684210526315\n",
      "Accurcay of KNN  97.36842105263158\n",
      "Accurcay of Naive Bayes  94.73684210526315\n",
      "Accurcay of Cross Validation  94.88888888888889\n"
     ]
    }
   ],
   "source": [
    "print(\"Accurcay of Hold Out \",a1)\n",
    "print(\"Accurcay of KNN \",a2)\n",
    "print(\"Accurcay of Naive Bayes \",a3)\n",
    "print(\"Accurcay of Cross Validation \",a4)"
   ]
  },
  {
   "cell_type": "code",
   "execution_count": null,
   "metadata": {},
   "outputs": [],
   "source": []
  }
 ],
 "metadata": {
  "colab": {
   "provenance": []
  },
  "kernelspec": {
   "display_name": "Python 3 (ipykernel)",
   "language": "python",
   "name": "python3"
  },
  "language_info": {
   "codemirror_mode": {
    "name": "ipython",
    "version": 3
   },
   "file_extension": ".py",
   "mimetype": "text/x-python",
   "name": "python",
   "nbconvert_exporter": "python",
   "pygments_lexer": "ipython3",
   "version": "3.11.4"
  }
 },
 "nbformat": 4,
 "nbformat_minor": 1
}
