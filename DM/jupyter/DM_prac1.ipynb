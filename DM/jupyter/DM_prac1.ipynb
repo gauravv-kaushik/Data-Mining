{
 "cells": [
  {
   "cell_type": "code",
   "execution_count": 1,
   "id": "eca24763",
   "metadata": {},
   "outputs": [],
   "source": [
    "import pandas as pd\n",
    "import matplotlib.pyplot as plt"
   ]
  },
  {
   "cell_type": "code",
   "execution_count": 2,
   "id": "f718fa50",
   "metadata": {},
   "outputs": [
    {
     "data": {
      "text/html": [
       "<div>\n",
       "<style scoped>\n",
       "    .dataframe tbody tr th:only-of-type {\n",
       "        vertical-align: middle;\n",
       "    }\n",
       "\n",
       "    .dataframe tbody tr th {\n",
       "        vertical-align: top;\n",
       "    }\n",
       "\n",
       "    .dataframe thead th {\n",
       "        text-align: right;\n",
       "    }\n",
       "</style>\n",
       "<table border=\"1\" class=\"dataframe\">\n",
       "  <thead>\n",
       "    <tr style=\"text-align: right;\">\n",
       "      <th></th>\n",
       "      <th>Age</th>\n",
       "      <th>agegroup</th>\n",
       "      <th>height</th>\n",
       "      <th>status</th>\n",
       "      <th>yearsmarried</th>\n",
       "    </tr>\n",
       "  </thead>\n",
       "  <tbody>\n",
       "    <tr>\n",
       "      <th>0</th>\n",
       "      <td>21</td>\n",
       "      <td>adult</td>\n",
       "      <td>6.0</td>\n",
       "      <td>single</td>\n",
       "      <td>-1</td>\n",
       "    </tr>\n",
       "    <tr>\n",
       "      <th>1</th>\n",
       "      <td>2</td>\n",
       "      <td>child</td>\n",
       "      <td>3.0</td>\n",
       "      <td>married</td>\n",
       "      <td>0</td>\n",
       "    </tr>\n",
       "    <tr>\n",
       "      <th>2</th>\n",
       "      <td>18</td>\n",
       "      <td>adult</td>\n",
       "      <td>5.7</td>\n",
       "      <td>married</td>\n",
       "      <td>20</td>\n",
       "    </tr>\n",
       "    <tr>\n",
       "      <th>3</th>\n",
       "      <td>221</td>\n",
       "      <td>elderly</td>\n",
       "      <td>5.0</td>\n",
       "      <td>widowed</td>\n",
       "      <td>2</td>\n",
       "    </tr>\n",
       "    <tr>\n",
       "      <th>4</th>\n",
       "      <td>34</td>\n",
       "      <td>child</td>\n",
       "      <td>-7.0</td>\n",
       "      <td>married</td>\n",
       "      <td>3</td>\n",
       "    </tr>\n",
       "  </tbody>\n",
       "</table>\n",
       "</div>"
      ],
      "text/plain": [
       "   Age agegroup  height   status  yearsmarried\n",
       "0   21    adult     6.0   single            -1\n",
       "1    2    child     3.0  married             0\n",
       "2   18    adult     5.7  married            20\n",
       "3  221  elderly     5.0  widowed             2\n",
       "4   34    child    -7.0  married             3"
      ]
     },
     "execution_count": 2,
     "metadata": {},
     "output_type": "execute_result"
    }
   ],
   "source": [
    "df = pd.read_table(\"people.txt\")\n",
    "df"
   ]
  },
  {
   "cell_type": "code",
   "execution_count": 3,
   "id": "9c7f0002",
   "metadata": {},
   "outputs": [],
   "source": [
    "def ruleset_E(df):\n",
    "    one=0;\n",
    "    two=0;\n",
    "    three=0;\n",
    "    four=0;\n",
    "    violations = []\n",
    "    for index,row in df.iterrows():\n",
    "        # Rule 1: Age should be in the range 0-150\n",
    "        if not(0 <= row['Age'] <= 150):\n",
    "            one=one+1;\n",
    "            violations.append(f\"Rule 1 Violated at {index}: Age ({row['Age']}) is not in the range 0-150.\")\n",
    "        \n",
    "        # Rule 2: Age should be greater than yearsmarried\n",
    "        if row['Age'] <= row['yearsmarried']:\n",
    "            two=two+1;\n",
    "            violations.append(f\"Rule 2 Violated at index {index}: Age ({row['Age']}) should be greater than yearsmarried ({row['yearsmarried']}).\")\n",
    "        \n",
    "        # Rule 3: Status should be married, single, or widowed\n",
    "        valid_statuses = ['married', 'single', 'widowed']\n",
    "        if row['status'] not in valid_statuses:\n",
    "            three=three+1;\n",
    "            violations.append(f\"Rule 3 Violated at index {index}: Status ({row['status']}) is not valid.\")\n",
    "        \n",
    "        # Rule 4: Age group based on age\n",
    "        if row['Age'] < 18:\n",
    "            expected_agegroup = 'child'\n",
    "        elif 18 <= row['Age'] <= 65:\n",
    "            expected_agegroup = 'adult'\n",
    "        else:\n",
    "            expected_agegroup = 'elderly'\n",
    "        if row['agegroup'] != expected_agegroup:\n",
    "            four=four+1;\n",
    "            violations.append(f\"Rule 4 Violated at index {index}: Agegroup ({row['agegroup']}) does not match expected age group ({expected_agegroup}).\")\n",
    "    \n",
    "    return violations,one,two,three,four"
   ]
  },
  {
   "cell_type": "code",
   "execution_count": 4,
   "id": "ea87d7d8",
   "metadata": {},
   "outputs": [
    {
     "name": "stdout",
     "output_type": "stream",
     "text": [
      "Violations detected:\n",
      "Rule 2 Violated at index 2: Age (18) should be greater than yearsmarried (20).\n",
      "Rule 1 Violated at 3: Age (221) is not in the range 0-150.\n",
      "Rule 4 Violated at index 4: Agegroup (child) does not match expected age group (adult).\n"
     ]
    }
   ],
   "source": [
    "# (i) Check violations\n",
    "violations,one,two,three,four = ruleset_E(df)\n",
    "\n",
    "# (ii) Summarize results\n",
    "if violations:\n",
    "    print(\"Violations detected:\")\n",
    "    for violation in violations:\n",
    "        print(violation)\n",
    "else:\n",
    "    print(\"No violations detected.\")\n"
   ]
  },
  {
   "cell_type": "code",
   "execution_count": 5,
   "id": "340b97b6",
   "metadata": {},
   "outputs": [
    {
     "data": {
      "image/png": "[encoded data removed]",
      "text/plain": [
       "<Figure size 640x480 with 1 Axes>"
      ]
     },
     "metadata": {},
     "output_type": "display_data"
    }
   ],
   "source": [
    "violation_counts = {}\n",
    "for violation in violations:\n",
    "    rule = violation.split(':')[0]\n",
    "    violation_counts[rule] = violation_counts.get(rule, 0) + 1\n",
    "\n",
    "plt.bar(['Rule 1','Rule 2', 'Rule 3', 'Rule 4'], [one,two,three,four])\n",
    "plt.xlabel('Rule')\n",
    "plt.ylabel('Violation Count')\n",
    "plt.title('Violations Summary')\n",
    "plt.show()\n"
   ]
  },
  {
   "cell_type": "code",
   "execution_count": null,
   "id": "83fad9a6",
   "metadata": {},
   "outputs": [],
   "source": []
  }
 ],
 "metadata": {
  "kernelspec": {
   "display_name": "Python 3 (ipykernel)",
   "language": "python",
   "name": "python3"
  },
  "language_info": {
   "codemirror_mode": {
    "name": "ipython",
    "version": 3
   },
   "file_extension": ".py",
   "mimetype": "text/x-python",
   "name": "python",
   "nbconvert_exporter": "python",
   "pygments_lexer": "ipython3",
   "version": "3.11.4"
  }
 },
 "nbformat": 4,
 "nbformat_minor": 5
}
